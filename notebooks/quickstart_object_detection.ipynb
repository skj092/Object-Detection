{
  "cells": [
    {
      "cell_type": "markdown",
      "metadata": {
        "id": "nXnNPljMfEbh"
      },
      "source": [
        "<a href=\"https://colab.research.google.com/github/airctic/icevision/blob/master/notebooks/quickstart_object_detection.ipynb\" target=\"_parent\"><img src=\"https://colab.research.google.com/assets/colab-badge.svg\" alt=\"Open In Colab\"/></a>"
      ]
    },
    {
      "cell_type": "markdown",
      "metadata": {
        "id": "oH3fGSICD7Tx"
      },
      "source": [
        "# Quickstart\n",
        "\n",
        "![](https://github.com/ai-fast-track/icevision/blob/fridge-tutorial/images/fridge-objects.png?raw=1)"
      ]
    },
    {
      "cell_type": "markdown",
      "metadata": {
        "id": "h_EBtaKohf16"
      },
      "source": [
        "## Introduction\n",
        "\n",
        "This tutorial walk you through the different steps of training the fridge dataset. the IceVision Framework is an **agnostic framework**. As an illustration, we will train our model using both the [fastai](https://github.com/fastai/fastai) library, and [pytorch-lightning](https://github.com/PyTorchLightning/pytorch-lightning) libraries.\n",
        "\n",
        "For more information about how the fridge dataset as well as its corresponding parser check out the [fridge folder](https://github.com/airctic/icedata/tree/master/icedata/datasets/fridge) in icedata."
      ]
    },
    {
      "cell_type": "markdown",
      "metadata": {
        "id": "orTU9-a7hf17"
      },
      "source": [
        "## Installing IceVision and IceData"
      ]
    },
    {
      "cell_type": "code",
      "execution_count": 1,
      "metadata": {
        "id": "le7JWbsFamo8",
        "outputId": "a7d80fbb-3ee4-4b35-c511-dd1e74a2065e",
        "colab": {
          "base_uri": "https://localhost:8080/"
        }
      },
      "outputs": [
        {
          "output_type": "stream",
          "name": "stdout",
          "text": [
            "--2021-12-27 05:52:14--  https://raw.githubusercontent.com/airctic/icevision/master/icevision_install.sh\n",
            "Resolving raw.githubusercontent.com (raw.githubusercontent.com)... 185.199.108.133, 185.199.109.133, 185.199.110.133, ...\n",
            "Connecting to raw.githubusercontent.com (raw.githubusercontent.com)|185.199.108.133|:443... connected.\n",
            "HTTP request sent, awaiting response... 200 OK\n",
            "Length: 2774 (2.7K) [text/plain]\n",
            "Saving to: ‘icevision_install.sh’\n",
            "\n",
            "\ricevision_install.s   0%[                    ]       0  --.-KB/s               \ricevision_install.s 100%[===================>]   2.71K  --.-KB/s    in 0s      \n",
            "\n",
            "2021-12-27 05:52:15 (36.3 MB/s) - ‘icevision_install.sh’ saved [2774/2774]\n",
            "\n",
            "Installing icevision + dependencices for cuda11\n",
            "- Installing torch and its dependencies\n",
            "Looking in links: https://download.pytorch.org/whl/torch_stable.html\n",
            "Requirement already satisfied: torch==1.10.0+cu111 in /usr/local/lib/python3.7/dist-packages (1.10.0+cu111)\n",
            "Requirement already satisfied: torchvision==0.11.1+cu111 in /usr/local/lib/python3.7/dist-packages (0.11.1+cu111)\n",
            "Requirement already satisfied: typing-extensions in /usr/local/lib/python3.7/dist-packages (from torch==1.10.0+cu111) (3.10.0.2)\n",
            "Requirement already satisfied: pillow!=8.3.0,>=5.3.0 in /usr/local/lib/python3.7/dist-packages (from torchvision==0.11.1+cu111) (7.1.2)\n",
            "Requirement already satisfied: numpy in /usr/local/lib/python3.7/dist-packages (from torchvision==0.11.1+cu111) (1.19.5)\n",
            "- Installing mmcv\n",
            "\u001b[K     |████████████████████████████████| 51.3 MB 21.2 MB/s \n",
            "\u001b[K     |████████████████████████████████| 190 kB 13.0 MB/s \n",
            "\u001b[?25h- Installing mmdet\n",
            "\u001b[K     |████████████████████████████████| 1.2 MB 13.1 MB/s \n",
            "\u001b[?25h- Installing icevision from PyPi\n",
            "\u001b[K     |████████████████████████████████| 244 kB 13.5 MB/s \n",
            "\u001b[K     |████████████████████████████████| 56 kB 4.5 MB/s \n",
            "\u001b[K     |████████████████████████████████| 98 kB 7.5 MB/s \n",
            "\u001b[K     |████████████████████████████████| 3.1 MB 33.7 MB/s \n",
            "\u001b[K     |████████████████████████████████| 57 kB 4.5 MB/s \n",
            "\u001b[K     |████████████████████████████████| 49 kB 4.8 MB/s \n",
            "\u001b[K     |████████████████████████████████| 1.7 MB 42.5 MB/s \n",
            "\u001b[K     |████████████████████████████████| 526 kB 47.0 MB/s \n",
            "\u001b[K     |████████████████████████████████| 189 kB 52.5 MB/s \n",
            "\u001b[K     |████████████████████████████████| 74 kB 3.5 MB/s \n",
            "\u001b[K     |████████████████████████████████| 111 kB 51.9 MB/s \n",
            "\u001b[K     |████████████████████████████████| 47.6 MB 61.8 MB/s \n",
            "\u001b[K     |████████████████████████████████| 376 kB 53.3 MB/s \n",
            "\u001b[K     |████████████████████████████████| 112 kB 52.3 MB/s \n",
            "\u001b[K     |████████████████████████████████| 596 kB 46.2 MB/s \n",
            "\u001b[K     |████████████████████████████████| 332 kB 53.0 MB/s \n",
            "\u001b[K     |████████████████████████████████| 132 kB 50.1 MB/s \n",
            "\u001b[K     |████████████████████████████████| 829 kB 46.2 MB/s \n",
            "\u001b[K     |████████████████████████████████| 1.1 MB 38.0 MB/s \n",
            "\u001b[K     |████████████████████████████████| 49 kB 5.0 MB/s \n",
            "\u001b[K     |████████████████████████████████| 154 kB 49.5 MB/s \n",
            "\u001b[K     |████████████████████████████████| 180 kB 50.5 MB/s \n",
            "\u001b[K     |████████████████████████████████| 140 kB 48.7 MB/s \n",
            "\u001b[K     |████████████████████████████████| 97 kB 5.4 MB/s \n",
            "\u001b[K     |████████████████████████████████| 63 kB 1.2 MB/s \n",
            "\u001b[K     |████████████████████████████████| 192 kB 54.4 MB/s \n",
            "\u001b[K     |████████████████████████████████| 160 kB 48.2 MB/s \n",
            "\u001b[K     |████████████████████████████████| 271 kB 52.8 MB/s \n",
            "\u001b[?25h  Building wheel for antlr4-python3-runtime (setup.py) ... \u001b[?25l\u001b[?25hdone\n",
            "  Building wheel for future (setup.py) ... \u001b[?25l\u001b[?25hdone\n",
            "  Building wheel for subprocess32 (setup.py) ... \u001b[?25l\u001b[?25hdone\n",
            "  Building wheel for fvcore (setup.py) ... \u001b[?25l\u001b[?25hdone\n",
            "  Building wheel for pathtools (setup.py) ... \u001b[?25l\u001b[?25hdone\n",
            "- Installing icedata from PyPi\n",
            "\u001b[K     |████████████████████████████████| 87 kB 5.5 MB/s \n",
            "\u001b[?25h  Building wheel for fire (setup.py) ... \u001b[?25l\u001b[?25hdone\n",
            "- Installing yolov5-icevision\n",
            "\u001b[K     |████████████████████████████████| 798 kB 14.5 MB/s \n",
            "\u001b[?25hicevision installation finished!\n"
          ]
        }
      ],
      "source": [
        "# Torch - Torchvision - IceVision - IceData - MMDetection - YOLOv5 - EfficientDet Installation\n",
        "!wget https://raw.githubusercontent.com/airctic/icevision/master/icevision_install.sh\n",
        "\n",
        "# Choose your installation target: cuda11 or cuda10 or cpu\n",
        "!bash icevision_install.sh cuda11"
      ]
    },
    {
      "cell_type": "code",
      "execution_count": 2,
      "metadata": {
        "id": "tKyxMbOAafe9",
        "outputId": "be4592be-43fd-43f8-8f70-710539dfb90a",
        "colab": {
          "base_uri": "https://localhost:8080/"
        }
      },
      "outputs": [
        {
          "output_type": "execute_result",
          "data": {
            "text/plain": [
              "{'restart': True, 'status': 'ok'}"
            ]
          },
          "metadata": {},
          "execution_count": 2
        }
      ],
      "source": [
        "# Restart kernel after installation\n",
        "import IPython\n",
        "IPython.Application.instance().kernel.do_shutdown(True)"
      ]
    },
    {
      "cell_type": "markdown",
      "metadata": {
        "id": "yt2hdPvWD7Ty",
        "pycharm": {
          "name": "#%% md\n"
        }
      },
      "source": [
        "## Imports"
      ]
    },
    {
      "cell_type": "code",
      "execution_count": 3,
      "metadata": {
        "id": "GkWwmiqTD7T0",
        "outputId": "1dd06ed5-c668-4b22-df9f-26eb014507dc",
        "colab": {
          "base_uri": "https://localhost:8080/",
          "height": 121,
          "referenced_widgets": [
            "e23302cc0db54a5fa4bfe338ab8090c9",
            "fa80e1c019b04379b53a8dd024fe208d",
            "10b858259cf34b77a7d4332fcad62281",
            "01142474622e47c1af7f62b8896ebe60",
            "7b73e79682314e33bb4c6b237750d48b",
            "39656046bb694d4bb74083ea44f56ec1",
            "376ee688b26441e9a9f58a6bfb616919",
            "b2b5f3edbdb9448b936cf6d9b6466ce8",
            "3aea2eb4824742108bdbba658f06c290",
            "08895da35db74d179143459410a390bf",
            "0779a7079e2f4a9bb408a91e10ab3837"
          ]
        }
      },
      "outputs": [
        {
          "output_type": "stream",
          "name": "stderr",
          "text": [
            "\u001b[1m\u001b[1mINFO    \u001b[0m\u001b[1m\u001b[0m - \u001b[1mDownloading default `.ttf` font file - SpaceGrotesk-Medium.ttf from https://raw.githubusercontent.com/airctic/storage/master/SpaceGrotesk-Medium.ttf to /root/.icevision/fonts/SpaceGrotesk-Medium.ttf\u001b[0m | \u001b[36micevision.visualize.utils\u001b[0m:\u001b[36mget_default_font\u001b[0m:\u001b[36m70\u001b[0m\n",
            "\u001b[1m\u001b[1mINFO    \u001b[0m\u001b[1m\u001b[0m - \u001b[1mDownloading mmdet configs\u001b[0m | \u001b[36micevision.models.mmdet.download_configs\u001b[0m:\u001b[36mdownload_mmdet_configs\u001b[0m:\u001b[36m31\u001b[0m\n"
          ]
        },
        {
          "output_type": "display_data",
          "data": {
            "application/vnd.jupyter.widget-view+json": {
              "model_id": "e23302cc0db54a5fa4bfe338ab8090c9",
              "version_minor": 0,
              "version_major": 2
            },
            "text/plain": [
              "0B [00:00, ?B/s]"
            ]
          },
          "metadata": {}
        },
        {
          "output_type": "stream",
          "name": "stdout",
          "text": [
            "Downloading https://ultralytics.com/assets/Arial.ttf to /root/.config/Ultralytics/Arial.ttf...\n"
          ]
        }
      ],
      "source": [
        "from icevision.all import *"
      ]
    },
    {
      "cell_type": "markdown",
      "metadata": {
        "id": "-nn-1IqBlmUE"
      },
      "source": [
        "## Choose Your Model and Backbone\n",
        "\n",
        "You can choose your model from 3 model libraries:\n",
        "* MMDetection\n",
        "* Torchvision\n",
        "* Ross Wightman (EfficientDet)"
      ]
    },
    {
      "cell_type": "code",
      "execution_count": 4,
      "metadata": {
        "colab": {
          "base_uri": "https://localhost:8080/",
          "height": 200
        },
        "id": "5UOc4nAQugB_",
        "outputId": "8576d62d-c12b-4c48-9f2a-e5b61336eaa4"
      },
      "outputs": [
        {
          "output_type": "error",
          "ename": "NameError",
          "evalue": "ignored",
          "traceback": [
            "\u001b[0;31m---------------------------------------------------------------------------\u001b[0m",
            "\u001b[0;31mNameError\u001b[0m                                 Traceback (most recent call last)",
            "\u001b[0;32m<ipython-input-4-f43799f9f143>\u001b[0m in \u001b[0;36m<module>\u001b[0;34m()\u001b[0m\n\u001b[1;32m      1\u001b[0m \u001b[0;31m# display_model_choice_ui(mytask=\"keypoints\")\u001b[0m\u001b[0;34m\u001b[0m\u001b[0;34m\u001b[0m\u001b[0;34m\u001b[0m\u001b[0m\n\u001b[0;32m----> 2\u001b[0;31m \u001b[0mmodel_ui\u001b[0m \u001b[0;34m=\u001b[0m \u001b[0mModelChoiceUI\u001b[0m\u001b[0;34m(\u001b[0m\u001b[0mtask\u001b[0m\u001b[0;34m=\u001b[0m\u001b[0;34m\"object_detection\"\u001b[0m\u001b[0;34m)\u001b[0m\u001b[0;34m\u001b[0m\u001b[0;34m\u001b[0m\u001b[0m\n\u001b[0m\u001b[1;32m      3\u001b[0m \u001b[0mmodel_ui\u001b[0m\u001b[0;34m.\u001b[0m\u001b[0mdisplay\u001b[0m\u001b[0;34m(\u001b[0m\u001b[0;34m)\u001b[0m\u001b[0;34m\u001b[0m\u001b[0;34m\u001b[0m\u001b[0m\n",
            "\u001b[0;31mNameError\u001b[0m: name 'ModelChoiceUI' is not defined"
          ]
        }
      ],
      "source": [
        "# display_model_choice_ui(mytask=\"keypoints\")\n",
        "model_ui = ModelChoiceUI(task=\"object_detection\")\n",
        "model_ui.display()"
      ]
    },
    {
      "cell_type": "code",
      "execution_count": null,
      "metadata": {
        "id": "e0R7rvfBupjn"
      },
      "outputs": [],
      "source": [
        "model_type, backbone = model_ui.get_model_info()\n",
        "model_type, backbone"
      ]
    },
    {
      "cell_type": "markdown",
      "metadata": {
        "id": "3rf4acKkK3RL"
      },
      "source": [
        "## Datasets : Fridge Objects dataset\n",
        "Fridge Objects dataset is tiny dataset that contains 134 images of 4 classes:\n",
        "- can, \n",
        "- carton, \n",
        "- milk bottle, \n",
        "- water bottle.\n",
        "\n",
        "IceVision provides very handy methods such as loading a dataset, parsing annotations, and more. "
      ]
    },
    {
      "cell_type": "code",
      "execution_count": null,
      "metadata": {
        "id": "TIMdgSb0L5ks"
      },
      "outputs": [],
      "source": [
        "# Loading Data\n",
        "url = \"https://cvbp-secondary.z19.web.core.windows.net/datasets/object_detection/odFridgeObjects.zip\"\n",
        "dest_dir = \"fridge\"\n",
        "data_dir = icedata.load_data(url, dest_dir)"
      ]
    },
    {
      "cell_type": "code",
      "execution_count": null,
      "metadata": {
        "id": "Ft35-rx0L_K4"
      },
      "outputs": [],
      "source": [
        "# Parser\n",
        "parser = parsers.VOCBBoxParser(annotations_dir=data_dir / \"odFridgeObjects/annotations\",\n",
        "                     images_dir=data_dir / \"odFridgeObjects/images\")"
      ]
    },
    {
      "cell_type": "code",
      "execution_count": null,
      "metadata": {
        "id": "B3Wv6q39JN59"
      },
      "outputs": [],
      "source": [
        "# Parsing\n",
        "train_records, valid_records = parser.parse()"
      ]
    },
    {
      "cell_type": "code",
      "execution_count": null,
      "metadata": {
        "id": "TTCT8cu4Jz28"
      },
      "outputs": [],
      "source": [
        "parser.class_map"
      ]
    },
    {
      "cell_type": "markdown",
      "metadata": {
        "id": "1XiQ6xU2hf2f"
      },
      "source": [
        "## Train and Validation Dataset Transforms"
      ]
    },
    {
      "cell_type": "code",
      "execution_count": null,
      "metadata": {
        "id": "z_Au4CUgrqU_"
      },
      "outputs": [],
      "source": [
        "# Transforms\n",
        "# size is set to 384 because EfficientDet requires its inputs to be divisible by 128\n",
        "train_tfms = tfms.A.Adapter([*tfms.A.aug_tfms(size=384, presize=512), tfms.A.Normalize()])\n",
        "valid_tfms = tfms.A.Adapter([*tfms.A.resize_and_pad(384), tfms.A.Normalize()])"
      ]
    },
    {
      "cell_type": "code",
      "execution_count": null,
      "metadata": {
        "id": "y-BnJ71aD7Uh"
      },
      "outputs": [],
      "source": [
        "# Datasets\n",
        "train_ds = Dataset(train_records, train_tfms)\n",
        "valid_ds = Dataset(valid_records, valid_tfms)"
      ]
    },
    {
      "cell_type": "markdown",
      "metadata": {
        "id": "60Aiw35DFoCM"
      },
      "source": [
        "### Displaying the same image with different transforms\n",
        "\n",
        "Note:\n",
        "> Transforms are applied **lazily**, meaning they are only applied when we grab (get) an item.\n",
        "> This means that, if you have augmentation (random) transforms, each time you get the **same** item from \n",
        "> the dataset you will get a slightly different version of it."
      ]
    },
    {
      "cell_type": "code",
      "execution_count": null,
      "metadata": {
        "id": "mp12p4uihf2r"
      },
      "outputs": [],
      "source": [
        "samples = [train_ds[0] for _ in range(3)]\n",
        "show_samples(samples, ncols=3)"
      ]
    },
    {
      "cell_type": "markdown",
      "metadata": {
        "id": "MjrcofdPrDgL"
      },
      "source": [
        "## DataLoader"
      ]
    },
    {
      "cell_type": "code",
      "execution_count": null,
      "metadata": {
        "id": "Rth_fUmwD7Ut"
      },
      "outputs": [],
      "source": [
        "# DataLoaders\n",
        "train_dl = model_type.train_dl(train_ds, batch_size=8, num_workers=4, shuffle=True)\n",
        "valid_dl = model_type.valid_dl(valid_ds, batch_size=8, num_workers=4, shuffle=False)"
      ]
    },
    {
      "cell_type": "code",
      "execution_count": null,
      "metadata": {
        "id": "AzA6y3FmiA-L"
      },
      "outputs": [],
      "source": [
        "# show ba\n",
        "model_type.show_batch(first(valid_dl), ncols=4)"
      ]
    },
    {
      "cell_type": "markdown",
      "metadata": {
        "id": "Lwp6B7x_D7Ul"
      },
      "source": [
        "## Model"
      ]
    },
    {
      "cell_type": "code",
      "execution_count": null,
      "metadata": {
        "id": "VN4giweqD7Un"
      },
      "outputs": [],
      "source": [
        "# pretrained=True is a default setting, and can be omitted\n",
        "model = model_type.model(backbone=backbone(pretrained=True), num_classes=len(parser.class_map)) \n",
        "\n",
        "# EfficietDet requires img_size\n",
        "# model = model_type.model(backbone=backbone(), num_classes=len(parser.class_map), img_size=384)"
      ]
    },
    {
      "cell_type": "markdown",
      "metadata": {
        "id": "xpj6XlBYfEi1"
      },
      "source": [
        "## Metrics"
      ]
    },
    {
      "cell_type": "code",
      "execution_count": null,
      "metadata": {
        "id": "XMgHITR3fEi2"
      },
      "outputs": [],
      "source": [
        "metrics = [COCOMetric(metric_type=COCOMetricType.bbox)]"
      ]
    },
    {
      "cell_type": "markdown",
      "metadata": {
        "id": "WRT_bkcBD7U4"
      },
      "source": [
        "## Training\n",
        "\n",
        "IceVision is an agnostic framework meaning it can be plugged to other DL framework such as [fastai2](https://github.com/fastai/fastai2), and [pytorch-lightning](https://github.com/PyTorchLightning/pytorch-lightning).  \n",
        "\n",
        "You could also plug to oth DL framework using your own custom code."
      ]
    },
    {
      "cell_type": "markdown",
      "metadata": {
        "id": "Py_DLC0zD7U6"
      },
      "source": [
        "### Training using fastai"
      ]
    },
    {
      "cell_type": "code",
      "execution_count": null,
      "metadata": {
        "id": "3vwXZIfaFoCU"
      },
      "outputs": [],
      "source": [
        "# learn = model_type.fastai.learner(dls=[train_dl, valid_dl], model=model, metrics=metrics)\n",
        "\n",
        "# For MMDetection models. COCOMetric is not supported yet.\n",
        "learn = model_type.fastai.learner(dls=[train_dl, valid_dl], model=model)"
      ]
    },
    {
      "cell_type": "code",
      "execution_count": null,
      "metadata": {
        "id": "Q9XEUqn4FoCW"
      },
      "outputs": [],
      "source": [
        "# learn.lr_find()\n",
        "\n",
        "# For Sparse-RCNN, use lower `end_lr`\n",
        "learn.lr_find(end_lr=0.005)"
      ]
    },
    {
      "cell_type": "code",
      "execution_count": null,
      "metadata": {
        "id": "x2nhyfSPD7VF"
      },
      "outputs": [],
      "source": [
        "learn.fine_tune(20, 1e-4, freeze_epochs=1)"
      ]
    },
    {
      "cell_type": "markdown",
      "metadata": {
        "id": "kzKYDkq1fEki"
      },
      "source": [
        "### Training using Lightning"
      ]
    },
    {
      "cell_type": "code",
      "execution_count": null,
      "metadata": {
        "id": "yHXLip-ffEkm"
      },
      "outputs": [],
      "source": [
        "class LightModel(efficientdet.lightning.ModelAdapter):\n",
        "    def configure_optimizers(self):\n",
        "        return SGD(self.parameters(), lr=1e-4)\n",
        "    \n",
        "light_model = LightModel(model, metrics=metrics)"
      ]
    },
    {
      "cell_type": "code",
      "execution_count": null,
      "metadata": {
        "id": "UkcKaiSkfEky"
      },
      "outputs": [],
      "source": [
        "trainer = pl.Trainer(max_epochs=20, gpus=1)\n",
        "trainer.fit(light_model, train_dl, valid_dl)"
      ]
    },
    {
      "cell_type": "markdown",
      "metadata": {
        "id": "Uca3AeDiS6id"
      },
      "source": [
        "## Show Results"
      ]
    },
    {
      "cell_type": "code",
      "execution_count": null,
      "metadata": {
        "id": "-1HdqrZFS41s"
      },
      "outputs": [],
      "source": [
        "model_type.show_results(model, valid_ds, detection_threshold=.5)"
      ]
    },
    {
      "cell_type": "markdown",
      "metadata": {
        "id": "3RiEWszY0HHg"
      },
      "source": [
        "## Inference\n",
        "\n",
        "### Predicting a batch of images\n",
        "\n",
        "Instead of predicting a whole list of images at one, we can process small batch at the time: This option is more memory efficient. \n"
      ]
    },
    {
      "cell_type": "code",
      "execution_count": null,
      "metadata": {
        "id": "EDVydic9wbje"
      },
      "outputs": [],
      "source": [
        "preds = model_type.predict(model, valid_ds)"
      ]
    },
    {
      "cell_type": "code",
      "execution_count": null,
      "metadata": {
        "id": "YYYBiC7QjQJs"
      },
      "outputs": [],
      "source": [
        "show_preds(\n",
        "    preds=preds[:6],\n",
        "    denormalize_fn=denormalize_imagenet,\n",
        "    ncols=3,\n",
        ")"
      ]
    },
    {
      "cell_type": "markdown",
      "metadata": {
        "id": "nNJLhokWhf3h"
      },
      "source": [
        "## Happy Learning!\n",
        "\n",
        "If you need any assistance, feel free to join our [forum](https://discord.gg/JDBeZYK)."
      ]
    }
  ],
  "metadata": {
    "accelerator": "GPU",
    "colab": {
      "collapsed_sections": [],
      "name": "quickstart_object_detection.ipynb",
      "provenance": []
    },
    "kernelspec": {
      "display_name": "Python 3.8.3 64-bit ('mantis': conda)",
      "name": "python38364bitmantiscondac41d00ef28614de491597d7c18f4fa64"
    },
    "language_info": {
      "codemirror_mode": {
        "name": "ipython",
        "version": 3
      },
      "file_extension": ".py",
      "mimetype": "text/x-python",
      "name": "python",
      "nbconvert_exporter": "python",
      "pygments_lexer": "ipython3",
      "version": "3.8.3"
    },
    "metadata": {
      "interpreter": {
        "hash": "7ce67d5d6720b587639daecff2fd8ea5482dfc1f4d2c40a21ebaeb984105fce4"
      }
    },
    "toc": {
      "base_numbering": 1,
      "nav_menu": {},
      "number_sections": true,
      "sideBar": false,
      "skip_h1_title": false,
      "title_cell": "Table of Contents",
      "title_sidebar": "Contents",
      "toc_cell": true,
      "toc_position": {
        "height": "608px",
        "left": "1489px",
        "top": "90px",
        "width": "398.875px"
      },
      "toc_section_display": false,
      "toc_window_display": true
    },
    "widgets": {
      "application/vnd.jupyter.widget-state+json": {
        "e23302cc0db54a5fa4bfe338ab8090c9": {
          "model_module": "@jupyter-widgets/controls",
          "model_name": "HBoxModel",
          "model_module_version": "1.5.0",
          "state": {
            "_view_name": "HBoxView",
            "_dom_classes": [],
            "_model_name": "HBoxModel",
            "_view_module": "@jupyter-widgets/controls",
            "_model_module_version": "1.5.0",
            "_view_count": null,
            "_view_module_version": "1.5.0",
            "box_style": "",
            "layout": "IPY_MODEL_fa80e1c019b04379b53a8dd024fe208d",
            "_model_module": "@jupyter-widgets/controls",
            "children": [
              "IPY_MODEL_10b858259cf34b77a7d4332fcad62281",
              "IPY_MODEL_01142474622e47c1af7f62b8896ebe60",
              "IPY_MODEL_7b73e79682314e33bb4c6b237750d48b"
            ]
          }
        },
        "fa80e1c019b04379b53a8dd024fe208d": {
          "model_module": "@jupyter-widgets/base",
          "model_name": "LayoutModel",
          "model_module_version": "1.2.0",
          "state": {
            "_view_name": "LayoutView",
            "grid_template_rows": null,
            "right": null,
            "justify_content": null,
            "_view_module": "@jupyter-widgets/base",
            "overflow": null,
            "_model_module_version": "1.2.0",
            "_view_count": null,
            "flex_flow": null,
            "width": null,
            "min_width": null,
            "border": null,
            "align_items": null,
            "bottom": null,
            "_model_module": "@jupyter-widgets/base",
            "top": null,
            "grid_column": null,
            "overflow_y": null,
            "overflow_x": null,
            "grid_auto_flow": null,
            "grid_area": null,
            "grid_template_columns": null,
            "flex": null,
            "_model_name": "LayoutModel",
            "justify_items": null,
            "grid_row": null,
            "max_height": null,
            "align_content": null,
            "visibility": null,
            "align_self": null,
            "height": null,
            "min_height": null,
            "padding": null,
            "grid_auto_rows": null,
            "grid_gap": null,
            "max_width": null,
            "order": null,
            "_view_module_version": "1.2.0",
            "grid_template_areas": null,
            "object_position": null,
            "object_fit": null,
            "grid_auto_columns": null,
            "margin": null,
            "display": null,
            "left": null
          }
        },
        "10b858259cf34b77a7d4332fcad62281": {
          "model_module": "@jupyter-widgets/controls",
          "model_name": "HTMLModel",
          "model_module_version": "1.5.0",
          "state": {
            "_view_name": "HTMLView",
            "style": "IPY_MODEL_39656046bb694d4bb74083ea44f56ec1",
            "_dom_classes": [],
            "description": "",
            "_model_name": "HTMLModel",
            "placeholder": "​",
            "_view_module": "@jupyter-widgets/controls",
            "_model_module_version": "1.5.0",
            "value": "",
            "_view_count": null,
            "_view_module_version": "1.5.0",
            "description_tooltip": null,
            "_model_module": "@jupyter-widgets/controls",
            "layout": "IPY_MODEL_376ee688b26441e9a9f58a6bfb616919"
          }
        },
        "01142474622e47c1af7f62b8896ebe60": {
          "model_module": "@jupyter-widgets/controls",
          "model_name": "FloatProgressModel",
          "model_module_version": "1.5.0",
          "state": {
            "_view_name": "ProgressView",
            "style": "IPY_MODEL_b2b5f3edbdb9448b936cf6d9b6466ce8",
            "_dom_classes": [],
            "description": "",
            "_model_name": "FloatProgressModel",
            "bar_style": "success",
            "max": 1,
            "_view_module": "@jupyter-widgets/controls",
            "_model_module_version": "1.5.0",
            "value": 1,
            "_view_count": null,
            "_view_module_version": "1.5.0",
            "orientation": "horizontal",
            "min": 0,
            "description_tooltip": null,
            "_model_module": "@jupyter-widgets/controls",
            "layout": "IPY_MODEL_3aea2eb4824742108bdbba658f06c290"
          }
        },
        "7b73e79682314e33bb4c6b237750d48b": {
          "model_module": "@jupyter-widgets/controls",
          "model_name": "HTMLModel",
          "model_module_version": "1.5.0",
          "state": {
            "_view_name": "HTMLView",
            "style": "IPY_MODEL_08895da35db74d179143459410a390bf",
            "_dom_classes": [],
            "description": "",
            "_model_name": "HTMLModel",
            "placeholder": "​",
            "_view_module": "@jupyter-widgets/controls",
            "_model_module_version": "1.5.0",
            "value": " 1712104/? [00:00&lt;00:00, 2919594.27B/s]",
            "_view_count": null,
            "_view_module_version": "1.5.0",
            "description_tooltip": null,
            "_model_module": "@jupyter-widgets/controls",
            "layout": "IPY_MODEL_0779a7079e2f4a9bb408a91e10ab3837"
          }
        },
        "39656046bb694d4bb74083ea44f56ec1": {
          "model_module": "@jupyter-widgets/controls",
          "model_name": "DescriptionStyleModel",
          "model_module_version": "1.5.0",
          "state": {
            "_view_name": "StyleView",
            "_model_name": "DescriptionStyleModel",
            "description_width": "",
            "_view_module": "@jupyter-widgets/base",
            "_model_module_version": "1.5.0",
            "_view_count": null,
            "_view_module_version": "1.2.0",
            "_model_module": "@jupyter-widgets/controls"
          }
        },
        "376ee688b26441e9a9f58a6bfb616919": {
          "model_module": "@jupyter-widgets/base",
          "model_name": "LayoutModel",
          "model_module_version": "1.2.0",
          "state": {
            "_view_name": "LayoutView",
            "grid_template_rows": null,
            "right": null,
            "justify_content": null,
            "_view_module": "@jupyter-widgets/base",
            "overflow": null,
            "_model_module_version": "1.2.0",
            "_view_count": null,
            "flex_flow": null,
            "width": null,
            "min_width": null,
            "border": null,
            "align_items": null,
            "bottom": null,
            "_model_module": "@jupyter-widgets/base",
            "top": null,
            "grid_column": null,
            "overflow_y": null,
            "overflow_x": null,
            "grid_auto_flow": null,
            "grid_area": null,
            "grid_template_columns": null,
            "flex": null,
            "_model_name": "LayoutModel",
            "justify_items": null,
            "grid_row": null,
            "max_height": null,
            "align_content": null,
            "visibility": null,
            "align_self": null,
            "height": null,
            "min_height": null,
            "padding": null,
            "grid_auto_rows": null,
            "grid_gap": null,
            "max_width": null,
            "order": null,
            "_view_module_version": "1.2.0",
            "grid_template_areas": null,
            "object_position": null,
            "object_fit": null,
            "grid_auto_columns": null,
            "margin": null,
            "display": null,
            "left": null
          }
        },
        "b2b5f3edbdb9448b936cf6d9b6466ce8": {
          "model_module": "@jupyter-widgets/controls",
          "model_name": "ProgressStyleModel",
          "model_module_version": "1.5.0",
          "state": {
            "_view_name": "StyleView",
            "_model_name": "ProgressStyleModel",
            "description_width": "",
            "_view_module": "@jupyter-widgets/base",
            "_model_module_version": "1.5.0",
            "_view_count": null,
            "_view_module_version": "1.2.0",
            "bar_color": null,
            "_model_module": "@jupyter-widgets/controls"
          }
        },
        "3aea2eb4824742108bdbba658f06c290": {
          "model_module": "@jupyter-widgets/base",
          "model_name": "LayoutModel",
          "model_module_version": "1.2.0",
          "state": {
            "_view_name": "LayoutView",
            "grid_template_rows": null,
            "right": null,
            "justify_content": null,
            "_view_module": "@jupyter-widgets/base",
            "overflow": null,
            "_model_module_version": "1.2.0",
            "_view_count": null,
            "flex_flow": null,
            "width": "20px",
            "min_width": null,
            "border": null,
            "align_items": null,
            "bottom": null,
            "_model_module": "@jupyter-widgets/base",
            "top": null,
            "grid_column": null,
            "overflow_y": null,
            "overflow_x": null,
            "grid_auto_flow": null,
            "grid_area": null,
            "grid_template_columns": null,
            "flex": null,
            "_model_name": "LayoutModel",
            "justify_items": null,
            "grid_row": null,
            "max_height": null,
            "align_content": null,
            "visibility": null,
            "align_self": null,
            "height": null,
            "min_height": null,
            "padding": null,
            "grid_auto_rows": null,
            "grid_gap": null,
            "max_width": null,
            "order": null,
            "_view_module_version": "1.2.0",
            "grid_template_areas": null,
            "object_position": null,
            "object_fit": null,
            "grid_auto_columns": null,
            "margin": null,
            "display": null,
            "left": null
          }
        },
        "08895da35db74d179143459410a390bf": {
          "model_module": "@jupyter-widgets/controls",
          "model_name": "DescriptionStyleModel",
          "model_module_version": "1.5.0",
          "state": {
            "_view_name": "StyleView",
            "_model_name": "DescriptionStyleModel",
            "description_width": "",
            "_view_module": "@jupyter-widgets/base",
            "_model_module_version": "1.5.0",
            "_view_count": null,
            "_view_module_version": "1.2.0",
            "_model_module": "@jupyter-widgets/controls"
          }
        },
        "0779a7079e2f4a9bb408a91e10ab3837": {
          "model_module": "@jupyter-widgets/base",
          "model_name": "LayoutModel",
          "model_module_version": "1.2.0",
          "state": {
            "_view_name": "LayoutView",
            "grid_template_rows": null,
            "right": null,
            "justify_content": null,
            "_view_module": "@jupyter-widgets/base",
            "overflow": null,
            "_model_module_version": "1.2.0",
            "_view_count": null,
            "flex_flow": null,
            "width": null,
            "min_width": null,
            "border": null,
            "align_items": null,
            "bottom": null,
            "_model_module": "@jupyter-widgets/base",
            "top": null,
            "grid_column": null,
            "overflow_y": null,
            "overflow_x": null,
            "grid_auto_flow": null,
            "grid_area": null,
            "grid_template_columns": null,
            "flex": null,
            "_model_name": "LayoutModel",
            "justify_items": null,
            "grid_row": null,
            "max_height": null,
            "align_content": null,
            "visibility": null,
            "align_self": null,
            "height": null,
            "min_height": null,
            "padding": null,
            "grid_auto_rows": null,
            "grid_gap": null,
            "max_width": null,
            "order": null,
            "_view_module_version": "1.2.0",
            "grid_template_areas": null,
            "object_position": null,
            "object_fit": null,
            "grid_auto_columns": null,
            "margin": null,
            "display": null,
            "left": null
          }
        }
      }
    }
  },
  "nbformat": 4,
  "nbformat_minor": 0
}