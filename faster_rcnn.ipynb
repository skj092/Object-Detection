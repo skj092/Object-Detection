{
  "metadata": {
    "kernelspec": {
      "language": "python",
      "display_name": "Python 3",
      "name": "python3"
    },
    "language_info": {
      "name": "python",
      "version": "3.7.12",
      "mimetype": "text/x-python",
      "codemirror_mode": {
        "name": "ipython",
        "version": 3
      },
      "pygments_lexer": "ipython3",
      "nbconvert_exporter": "python",
      "file_extension": ".py"
    },
    "colab": {
      "name": "faster-rcnn.ipynb",
      "provenance": [],
      "include_colab_link": true
    }
  },
  "nbformat_minor": 0,
  "nbformat": 4,
  "cells": [
    {
      "cell_type": "markdown",
      "metadata": {
        "id": "view-in-github",
        "colab_type": "text"
      },
      "source": [
        "<a href=\"https://colab.research.google.com/github/skj092/Object-Detection/blob/main/faster_rcnn.ipynb\" target=\"_parent\"><img src=\"https://colab.research.google.com/assets/colab-badge.svg\" alt=\"Open In Colab\"/></a>"
      ]
    },
    {
      "cell_type": "code",
      "source": [
        "from glob import glob\n",
        "import os\n",
        "from pathlib import Path\n",
        "import xml.etree.ElementTree as Xet\n",
        "import matplotlib.pyplot as plt\n",
        "import cv2"
      ],
      "metadata": {
        "execution": {
          "iopub.status.busy": "2022-01-11T06:37:37.851483Z",
          "iopub.execute_input": "2022-01-11T06:37:37.852112Z",
          "iopub.status.idle": "2022-01-11T06:37:38.045048Z",
          "shell.execute_reply.started": "2022-01-11T06:37:37.852022Z",
          "shell.execute_reply": "2022-01-11T06:37:38.044388Z"
        },
        "trusted": true,
        "id": "i5EAnOyK4Ohv"
      },
      "execution_count": null,
      "outputs": []
    },
    {
      "cell_type": "code",
      "source": [
        "ls ../input/fruit-images-for-object-detection/"
      ],
      "metadata": {
        "execution": {
          "iopub.status.busy": "2022-01-11T06:37:38.046714Z",
          "iopub.execute_input": "2022-01-11T06:37:38.04703Z",
          "iopub.status.idle": "2022-01-11T06:37:38.727853Z",
          "shell.execute_reply.started": "2022-01-11T06:37:38.046993Z",
          "shell.execute_reply": "2022-01-11T06:37:38.727033Z"
        },
        "trusted": true,
        "id": "F4ESFId94Oh0"
      },
      "execution_count": null,
      "outputs": []
    },
    {
      "cell_type": "code",
      "source": [
        "train_xmls = glob('../input/fruit-images-for-object-detection/train_zip/train/*.xml')\n",
        "len(train_xmls)"
      ],
      "metadata": {
        "execution": {
          "iopub.status.busy": "2022-01-11T06:37:38.730495Z",
          "iopub.execute_input": "2022-01-11T06:37:38.730786Z",
          "iopub.status.idle": "2022-01-11T06:37:38.926387Z",
          "shell.execute_reply.started": "2022-01-11T06:37:38.730748Z",
          "shell.execute_reply": "2022-01-11T06:37:38.925646Z"
        },
        "trusted": true,
        "id": "Boc6m1L24Oh1"
      },
      "execution_count": null,
      "outputs": []
    },
    {
      "cell_type": "code",
      "source": [
        "\n",
        "# Importing the required libraries\n",
        "import xml.etree.ElementTree as Xet\n",
        "import pandas as pd\n",
        "  \n",
        "cols = [\"filename\", \"name\", \"xmin\", \"ymin\", \"xmax\", \"ymax\"]\n",
        "rows = []\n",
        "  \n",
        "# Parsing the XML file\n",
        "for i in range(len(train_xmls)):\n",
        "    xmlparse = Xet.parse(train_xmls[i])\n",
        "    root = xmlparse.getroot()\n",
        "\n",
        "    filename = root[1].text\n",
        "    label = root[6][0].text\n",
        "    xmin = root[6][4][0].text\n",
        "    ymin = root[6][4][1].text\n",
        "    xmax = root[6][4][2].text\n",
        "    ymax = root[6][4][3].text\n",
        "    columns = [filename, label, xmin, ymin, xmax, ymax]\n",
        "\n",
        "    rows.append(columns)\n",
        "# # Writing dataframe to csv\n",
        "df = pd.DataFrame(rows, columns=cols)\n",
        "df.head()"
      ],
      "metadata": {
        "execution": {
          "iopub.status.busy": "2022-01-11T06:37:38.928286Z",
          "iopub.execute_input": "2022-01-11T06:37:38.928875Z",
          "iopub.status.idle": "2022-01-11T06:37:40.497061Z",
          "shell.execute_reply.started": "2022-01-11T06:37:38.928836Z",
          "shell.execute_reply": "2022-01-11T06:37:40.496395Z"
        },
        "trusted": true,
        "id": "51ZP_Aab4Oh2"
      },
      "execution_count": null,
      "outputs": []
    },
    {
      "cell_type": "code",
      "source": [
        "image_list = glob(\"../input/fruit-images-for-object-detection/train_zip/train/*.jpg\")\n",
        "image_list[:5]"
      ],
      "metadata": {
        "execution": {
          "iopub.status.busy": "2022-01-11T06:37:44.947298Z",
          "iopub.execute_input": "2022-01-11T06:37:44.947765Z",
          "iopub.status.idle": "2022-01-11T06:37:44.956617Z",
          "shell.execute_reply.started": "2022-01-11T06:37:44.947726Z",
          "shell.execute_reply": "2022-01-11T06:37:44.955895Z"
        },
        "trusted": true,
        "id": "bKGN9vz74Oh4"
      },
      "execution_count": null,
      "outputs": []
    },
    {
      "cell_type": "code",
      "source": [
        "lbltoid = {'apple':0, 'banana':1, 'orange':2}"
      ],
      "metadata": {
        "execution": {
          "iopub.status.busy": "2022-01-11T06:37:45.613785Z",
          "iopub.execute_input": "2022-01-11T06:37:45.614468Z",
          "iopub.status.idle": "2022-01-11T06:37:45.620682Z",
          "shell.execute_reply.started": "2022-01-11T06:37:45.61443Z",
          "shell.execute_reply": "2022-01-11T06:37:45.619823Z"
        },
        "trusted": true,
        "id": "hVA9h9A34Oh4"
      },
      "execution_count": null,
      "outputs": []
    },
    {
      "cell_type": "code",
      "source": [
        "from torchvision import transforms as T\n",
        "import torch\n",
        "\n",
        "tfms = T.Compose([T.PILToTensor(),T.ConvertImageDtype(torch.float)])"
      ],
      "metadata": {
        "execution": {
          "iopub.status.busy": "2022-01-11T06:37:48.864669Z",
          "iopub.execute_input": "2022-01-11T06:37:48.864929Z",
          "iopub.status.idle": "2022-01-11T06:37:50.488736Z",
          "shell.execute_reply.started": "2022-01-11T06:37:48.864902Z",
          "shell.execute_reply": "2022-01-11T06:37:50.487978Z"
        },
        "trusted": true,
        "id": "XLfiTL_y4Oh5"
      },
      "execution_count": null,
      "outputs": []
    },
    {
      "cell_type": "code",
      "source": [
        "import os\n",
        "import numpy as np\n",
        "import torch\n",
        "import torch.utils.data\n",
        "from PIL import Image\n",
        "\n",
        "class FruitData(torch.utils.data.Dataset):\n",
        "    def __init__(self, img, df, transform=None):\n",
        "        self.images = img\n",
        "        self.df = df\n",
        "        self.transforms = transform\n",
        "        \n",
        "    def __len__(self):\n",
        "        return len(self.images)\n",
        "    \n",
        "    def __getitem__(self, idx):\n",
        "        img_path = Path(self.images[idx])\n",
        "        img = Image.open(img_path).convert('RGB').resize((224,224))\n",
        "        name = img_path.name\n",
        "        bbox = []\n",
        "        xmin = int(df.loc[df.filename==name].iloc[0]['xmin'])\n",
        "        ymin = int(df.loc[df.filename==name].iloc[0]['ymin'])\n",
        "        xmax = int(df.loc[df.filename==name].iloc[0]['xmax'])\n",
        "        ymax = int(df.loc[df.filename==name].iloc[0]['ymax'])\n",
        "        label = df.loc[df.filename==name].iloc[0]['name']\n",
        "        bbox.append([xmin, ymin, xmax, ymax])\n",
        "        bbox = torch.as_tensor(bbox, dtype=torch.float32)\n",
        "        label = torch.as_tensor([lbltoid[label]])\n",
        "        if self.transforms is not None:\n",
        "            img = self.transforms(img)\n",
        "        return img, bbox, label"
      ],
      "metadata": {
        "execution": {
          "iopub.status.busy": "2022-01-11T06:37:52.763856Z",
          "iopub.execute_input": "2022-01-11T06:37:52.7644Z",
          "iopub.status.idle": "2022-01-11T06:37:52.774616Z",
          "shell.execute_reply.started": "2022-01-11T06:37:52.764358Z",
          "shell.execute_reply": "2022-01-11T06:37:52.773934Z"
        },
        "trusted": true,
        "id": "UyE_EDAx4Oh5"
      },
      "execution_count": null,
      "outputs": []
    },
    {
      "cell_type": "code",
      "source": [
        "data = FruitData(image_list, df, transform=tfms)"
      ],
      "metadata": {
        "execution": {
          "iopub.status.busy": "2022-01-11T06:37:53.445648Z",
          "iopub.execute_input": "2022-01-11T06:37:53.445922Z",
          "iopub.status.idle": "2022-01-11T06:37:53.451971Z",
          "shell.execute_reply.started": "2022-01-11T06:37:53.44589Z",
          "shell.execute_reply": "2022-01-11T06:37:53.449638Z"
        },
        "trusted": true,
        "id": "-L1peDdH4Oh6"
      },
      "execution_count": null,
      "outputs": []
    },
    {
      "cell_type": "code",
      "source": [
        "def plot_img_bbox(img, target):\n",
        "    # plot the image and bboxes\n",
        "    # Bounding boxes are defined as follows: x-min y-min width height\n",
        "    fig, a = plt.subplots(1,1)\n",
        "    fig.set_size_inches(5,5)\n",
        "    a.imshow(img)\n",
        "    for box in (target['boxes']):\n",
        "        x, y, width, height  = box[0], box[1], box[2]-box[0], box[3]-box[1]\n",
        "        rect = patches.Rectangle((x, y),\n",
        "                                 width, height,\n",
        "                                 linewidth = 2,\n",
        "                                 edgecolor = 'r',\n",
        "                                 facecolor = 'none')\n",
        "\n",
        "        # Draw the bounding box on top of the image\n",
        "        a.add_patch(rect)\n",
        "    plt.show()\n",
        "    \n",
        "# plotting the image with bboxes. Feel free to change the index\n",
        "img, target = data[25]\n",
        "plot_img_bbox(img, target)"
      ],
      "metadata": {
        "execution": {
          "iopub.status.busy": "2022-01-11T06:38:19.157532Z",
          "iopub.execute_input": "2022-01-11T06:38:19.157791Z",
          "iopub.status.idle": "2022-01-11T06:38:19.20111Z",
          "shell.execute_reply.started": "2022-01-11T06:38:19.157762Z",
          "shell.execute_reply": "2022-01-11T06:38:19.200221Z"
        },
        "trusted": true,
        "id": "mqOYDZAX4Oh7"
      },
      "execution_count": null,
      "outputs": []
    },
    {
      "cell_type": "code",
      "source": [
        "data[0]"
      ],
      "metadata": {
        "execution": {
          "iopub.status.busy": "2022-01-11T06:37:58.282704Z",
          "iopub.execute_input": "2022-01-11T06:37:58.28296Z",
          "iopub.status.idle": "2022-01-11T06:37:58.410716Z",
          "shell.execute_reply.started": "2022-01-11T06:37:58.282931Z",
          "shell.execute_reply": "2022-01-11T06:37:58.410023Z"
        },
        "trusted": true,
        "id": "Uw2qK1TG4Oh8"
      },
      "execution_count": null,
      "outputs": []
    },
    {
      "cell_type": "code",
      "source": [
        "data_loader = torch.utils.data.DataLoader(data, batch_size=2, shuffle=True)"
      ],
      "metadata": {
        "execution": {
          "iopub.status.busy": "2022-01-11T06:41:02.434028Z",
          "iopub.execute_input": "2022-01-11T06:41:02.434509Z",
          "iopub.status.idle": "2022-01-11T06:41:02.438474Z",
          "shell.execute_reply.started": "2022-01-11T06:41:02.43447Z",
          "shell.execute_reply": "2022-01-11T06:41:02.437524Z"
        },
        "trusted": true,
        "id": "VQ-d9yb04Oh8"
      },
      "execution_count": null,
      "outputs": []
    },
    {
      "cell_type": "code",
      "source": [
        "images, bboxs, labels = next(iter(data_loader))\n",
        "print(images.shape, bboxs.shape, labels.shape)"
      ],
      "metadata": {
        "execution": {
          "iopub.status.busy": "2022-01-11T06:41:02.763998Z",
          "iopub.execute_input": "2022-01-11T06:41:02.764747Z",
          "iopub.status.idle": "2022-01-11T06:41:02.909646Z",
          "shell.execute_reply.started": "2022-01-11T06:41:02.764698Z",
          "shell.execute_reply": "2022-01-11T06:41:02.908854Z"
        },
        "trusted": true,
        "id": "bqOQDze04Oh-"
      },
      "execution_count": null,
      "outputs": []
    },
    {
      "cell_type": "markdown",
      "source": [
        "# modeling"
      ],
      "metadata": {
        "id": "TmLuE4o-4Oh-"
      }
    },
    {
      "cell_type": "code",
      "source": [
        "import torchvision\n",
        "from torchvision.models.detection import FasterRCNN\n",
        "from torchvision.models.detection.faster_rcnn import FastRCNNPredictor\n",
        "\n",
        "\n",
        "model = torchvision.models.detection.fasterrcnn_resnet50_fpn(pretrained=True)"
      ],
      "metadata": {
        "execution": {
          "iopub.status.busy": "2022-01-11T06:41:03.440347Z",
          "iopub.execute_input": "2022-01-11T06:41:03.440921Z",
          "iopub.status.idle": "2022-01-11T06:41:10.295286Z",
          "shell.execute_reply.started": "2022-01-11T06:41:03.440884Z",
          "shell.execute_reply": "2022-01-11T06:41:10.294528Z"
        },
        "trusted": true,
        "id": "oOOrLc0w4Oh_"
      },
      "execution_count": null,
      "outputs": []
    },
    {
      "cell_type": "code",
      "source": [
        "num_classes = 3  # 1 class (wheat) + background\n",
        "\n",
        "# get number of input features for the classifier\n",
        "in_features = model.roi_heads.box_predictor.cls_score.in_features\n",
        "\n",
        "# replace the pre-trained head with a new one\n",
        "model.roi_heads.box_predictor = FastRCNNPredictor(in_features, num_classes)"
      ],
      "metadata": {
        "execution": {
          "iopub.status.busy": "2022-01-11T06:41:10.297184Z",
          "iopub.execute_input": "2022-01-11T06:41:10.297446Z",
          "iopub.status.idle": "2022-01-11T06:41:10.303614Z",
          "shell.execute_reply.started": "2022-01-11T06:41:10.297411Z",
          "shell.execute_reply": "2022-01-11T06:41:10.302732Z"
        },
        "trusted": true,
        "id": "D-rE5Jil4OiA"
      },
      "execution_count": null,
      "outputs": []
    },
    {
      "cell_type": "markdown",
      "source": [
        "## Sample"
      ],
      "metadata": {
        "id": "geFpY5xh4OiA"
      }
    },
    {
      "cell_type": "code",
      "source": [
        "images.shape, bboxs.shape"
      ],
      "metadata": {
        "execution": {
          "iopub.status.busy": "2022-01-11T06:41:10.305416Z",
          "iopub.execute_input": "2022-01-11T06:41:10.305739Z",
          "iopub.status.idle": "2022-01-11T06:41:10.313536Z",
          "shell.execute_reply.started": "2022-01-11T06:41:10.305682Z",
          "shell.execute_reply": "2022-01-11T06:41:10.312661Z"
        },
        "trusted": true,
        "id": "TVjpGu264OiB"
      },
      "execution_count": null,
      "outputs": []
    },
    {
      "cell_type": "code",
      "source": [
        "targets = []\n",
        "for i in range(len(images)):\n",
        "    d = {}\n",
        "    d['boxes'] = bboxs[i]\n",
        "    d['labels'] = labels[i]\n",
        "    targets.append(d)\n",
        "targets"
      ],
      "metadata": {
        "execution": {
          "iopub.status.busy": "2022-01-11T06:41:10.316492Z",
          "iopub.execute_input": "2022-01-11T06:41:10.316769Z",
          "iopub.status.idle": "2022-01-11T06:41:10.328587Z",
          "shell.execute_reply.started": "2022-01-11T06:41:10.316734Z",
          "shell.execute_reply": "2022-01-11T06:41:10.327856Z"
        },
        "trusted": true,
        "id": "tk9QIMin4OiB"
      },
      "execution_count": null,
      "outputs": []
    },
    {
      "cell_type": "code",
      "source": [
        "images.shape"
      ],
      "metadata": {
        "execution": {
          "iopub.status.busy": "2022-01-11T06:41:10.33012Z",
          "iopub.execute_input": "2022-01-11T06:41:10.330682Z",
          "iopub.status.idle": "2022-01-11T06:41:10.336362Z",
          "shell.execute_reply.started": "2022-01-11T06:41:10.330646Z",
          "shell.execute_reply": "2022-01-11T06:41:10.335554Z"
        },
        "trusted": true,
        "id": "4X9NOx2M4OiB"
      },
      "execution_count": null,
      "outputs": []
    },
    {
      "cell_type": "code",
      "source": [
        "output = model(images, targets)"
      ],
      "metadata": {
        "execution": {
          "iopub.status.busy": "2022-01-11T06:41:10.33822Z",
          "iopub.execute_input": "2022-01-11T06:41:10.338926Z",
          "iopub.status.idle": "2022-01-11T06:41:17.663285Z",
          "shell.execute_reply.started": "2022-01-11T06:41:10.338807Z",
          "shell.execute_reply": "2022-01-11T06:41:17.662544Z"
        },
        "trusted": true,
        "id": "UbPGfeKT4OiB"
      },
      "execution_count": null,
      "outputs": []
    },
    {
      "cell_type": "code",
      "source": [
        "output"
      ],
      "metadata": {
        "execution": {
          "iopub.status.busy": "2022-01-11T06:41:17.664681Z",
          "iopub.execute_input": "2022-01-11T06:41:17.664929Z",
          "iopub.status.idle": "2022-01-11T06:41:17.671669Z",
          "shell.execute_reply.started": "2022-01-11T06:41:17.664894Z",
          "shell.execute_reply": "2022-01-11T06:41:17.67095Z"
        },
        "trusted": true,
        "id": "dtCrd8Yg4OiC"
      },
      "execution_count": null,
      "outputs": []
    },
    {
      "cell_type": "code",
      "source": [
        "images[0].shape"
      ],
      "metadata": {
        "execution": {
          "iopub.status.busy": "2022-01-11T06:41:17.673001Z",
          "iopub.execute_input": "2022-01-11T06:41:17.673516Z",
          "iopub.status.idle": "2022-01-11T06:41:17.851491Z",
          "shell.execute_reply.started": "2022-01-11T06:41:17.673479Z",
          "shell.execute_reply": "2022-01-11T06:41:17.850602Z"
        },
        "trusted": true,
        "id": "Ypw8_Twq4OiC"
      },
      "execution_count": null,
      "outputs": []
    },
    {
      "cell_type": "code",
      "source": [
        "sample = images[0].permute(1,2,0).cpu().numpy()\n",
        "targets = [{k: v for k, v in t.items()} for t in targets]\n",
        "boxes = targets[0]['boxes'].cpu().numpy().astype(np.int32)"
      ],
      "metadata": {
        "execution": {
          "iopub.status.busy": "2022-01-11T06:41:17.85372Z",
          "iopub.execute_input": "2022-01-11T06:41:17.854052Z",
          "iopub.status.idle": "2022-01-11T06:41:17.860539Z",
          "shell.execute_reply.started": "2022-01-11T06:41:17.854013Z",
          "shell.execute_reply": "2022-01-11T06:41:17.859812Z"
        },
        "trusted": true,
        "id": "bWSbFtcg4OiC"
      },
      "execution_count": null,
      "outputs": []
    },
    {
      "cell_type": "code",
      "source": [
        ""
      ],
      "metadata": {
        "id": "QEszPfLC4OiC"
      },
      "execution_count": null,
      "outputs": []
    },
    {
      "cell_type": "code",
      "source": [
        "plt.imshow(sample)"
      ],
      "metadata": {
        "execution": {
          "iopub.status.busy": "2022-01-11T06:41:17.863508Z",
          "iopub.execute_input": "2022-01-11T06:41:17.864061Z",
          "iopub.status.idle": "2022-01-11T06:41:18.094632Z",
          "shell.execute_reply.started": "2022-01-11T06:41:17.864024Z",
          "shell.execute_reply": "2022-01-11T06:41:18.093956Z"
        },
        "trusted": true,
        "id": "-Um0bf0b4OiC"
      },
      "execution_count": null,
      "outputs": []
    },
    {
      "cell_type": "code",
      "source": [
        "boxes[0]"
      ],
      "metadata": {
        "execution": {
          "iopub.status.busy": "2022-01-11T06:41:18.095575Z",
          "iopub.execute_input": "2022-01-11T06:41:18.095796Z",
          "iopub.status.idle": "2022-01-11T06:41:18.103333Z",
          "shell.execute_reply.started": "2022-01-11T06:41:18.095765Z",
          "shell.execute_reply": "2022-01-11T06:41:18.102369Z"
        },
        "trusted": true,
        "id": "G80YwUbi4OiD"
      },
      "execution_count": null,
      "outputs": []
    },
    {
      "cell_type": "code",
      "source": [
        "import matplotlib.patches as patches\n",
        "# Create figure and axes\n",
        "fig, ax = plt.subplots()\n",
        "\n",
        "# Display the image\n",
        "ax.imshow(sample)\n",
        "\n",
        "# Create a Rectangle patch\n",
        "rect = patches.Rectangle((boxes[0][0],50), boxes[0][1], boxes[0][1], 30, linewidth=1, edgecolor='g', facecolor='none')\n",
        "\n",
        "# Add the patch to the Axes\n",
        "ax.add_patch(rect)\n",
        "\n",
        "plt.show()"
      ],
      "metadata": {
        "execution": {
          "iopub.status.busy": "2022-01-11T06:42:11.328024Z",
          "iopub.execute_input": "2022-01-11T06:42:11.328652Z",
          "iopub.status.idle": "2022-01-11T06:42:11.552632Z",
          "shell.execute_reply.started": "2022-01-11T06:42:11.328615Z",
          "shell.execute_reply": "2022-01-11T06:42:11.551993Z"
        },
        "trusted": true,
        "id": "gq041lth4OiD"
      },
      "execution_count": null,
      "outputs": []
    },
    {
      "cell_type": "markdown",
      "source": [
        "# Training"
      ],
      "metadata": {
        "id": "foddvybx4OiD"
      }
    },
    {
      "cell_type": "code",
      "source": [
        "device = torch.device('cuda') if torch.cuda.is_available() else torch.device('cpu')"
      ],
      "metadata": {
        "execution": {
          "iopub.status.busy": "2022-01-10T03:59:50.881279Z",
          "iopub.execute_input": "2022-01-10T03:59:50.881984Z",
          "iopub.status.idle": "2022-01-10T03:59:50.923465Z",
          "shell.execute_reply.started": "2022-01-10T03:59:50.881947Z",
          "shell.execute_reply": "2022-01-10T03:59:50.922685Z"
        },
        "trusted": true,
        "id": "K4rJHP3b4OiD"
      },
      "execution_count": null,
      "outputs": []
    },
    {
      "cell_type": "code",
      "source": [
        "model.to(device)\n",
        "params = [p for p in model.parameters() if p.requires_grad]\n",
        "optimizer = torch.optim.SGD(params, lr=0.005, momentum=0.9, weight_decay=0.0005)\n",
        "# lr_scheduler = torch.optim.lr_scheduler.StepLR(optimizer, step_size=3, gamma=0.1)\n",
        "lr_scheduler = None\n",
        "\n",
        "num_epochs = 2"
      ],
      "metadata": {
        "execution": {
          "iopub.status.busy": "2022-01-10T03:59:58.350789Z",
          "iopub.execute_input": "2022-01-10T03:59:58.351048Z",
          "iopub.status.idle": "2022-01-10T04:00:01.234362Z",
          "shell.execute_reply.started": "2022-01-10T03:59:58.351019Z",
          "shell.execute_reply": "2022-01-10T04:00:01.233599Z"
        },
        "trusted": true,
        "id": "839Zr7CU4OiD"
      },
      "execution_count": null,
      "outputs": []
    },
    {
      "cell_type": "code",
      "source": [
        "class Averager:\n",
        "    def __init__(self):\n",
        "        self.current_total = 0.0\n",
        "        self.iterations = 0.0\n",
        "\n",
        "    def send(self, value):\n",
        "        self.current_total += value\n",
        "        self.iterations += 1\n",
        "\n",
        "    @property\n",
        "    def value(self):\n",
        "        if self.iterations == 0:\n",
        "            return 0\n",
        "        else:\n",
        "            return 1.0 * self.current_total / self.iterations\n",
        "\n",
        "    def reset(self):\n",
        "        self.current_total = 0.0\n",
        "        self.iterations = 0.0\n"
      ],
      "metadata": {
        "execution": {
          "iopub.status.busy": "2022-01-10T04:00:01.235911Z",
          "iopub.execute_input": "2022-01-10T04:00:01.236171Z",
          "iopub.status.idle": "2022-01-10T04:00:01.241217Z",
          "shell.execute_reply.started": "2022-01-10T04:00:01.236135Z",
          "shell.execute_reply": "2022-01-10T04:00:01.240574Z"
        },
        "trusted": true,
        "id": "uq9JNGhz4OiE"
      },
      "execution_count": null,
      "outputs": []
    },
    {
      "cell_type": "code",
      "source": [
        "loss_hist = Averager()\n",
        "itr = 1\n",
        "\n",
        "for epoch in range(num_epochs):\n",
        "    loss_hist.reset()\n",
        "    \n",
        "    for images, targets, image_ids in data_loader:\n",
        "        targets = []\n",
        "        for i in range(len(images)):\n",
        "            d = {}\n",
        "            d['boxes'] = bboxs[i]\n",
        "            d['labels'] = labels[i]\n",
        "            targets.append(d)\n",
        "        targets\n",
        "        \n",
        "        images = list(image.to(device) for image in images)\n",
        "        targets = [{k: v.to(device) for k, v in t.items()} for t in targets]\n",
        "\n",
        "        loss_dict = model(images, targets)\n",
        "\n",
        "        losses = sum(loss for loss in loss_dict.values())\n",
        "        loss_value = losses.item()\n",
        "\n",
        "        loss_hist.send(loss_value)\n",
        "\n",
        "        optimizer.zero_grad()\n",
        "        losses.backward()\n",
        "        optimizer.step()\n",
        "\n",
        "        if itr % 50 == 0:\n",
        "            print(f\"Iteration #{itr} loss: {loss_value}\")\n",
        "\n",
        "        itr += 1\n",
        "    \n",
        "    # update the learning rate\n",
        "    if lr_scheduler is not None:\n",
        "        lr_scheduler.step()\n",
        "\n",
        "    print(f\"Epoch #{epoch} loss: {loss_hist.value}\")   "
      ],
      "metadata": {
        "execution": {
          "iopub.status.busy": "2022-01-10T04:03:03.165574Z",
          "iopub.execute_input": "2022-01-10T04:03:03.166047Z",
          "iopub.status.idle": "2022-01-10T04:04:07.48496Z",
          "shell.execute_reply.started": "2022-01-10T04:03:03.166007Z",
          "shell.execute_reply": "2022-01-10T04:04:07.484101Z"
        },
        "trusted": true,
        "id": "zoJe2Zko4OiE"
      },
      "execution_count": null,
      "outputs": []
    },
    {
      "cell_type": "code",
      "source": [
        "torch.save(model.state_dict(), 'fasterrcnn_resnet50_fpn.pth')"
      ],
      "metadata": {
        "id": "8EHhzyUN4OiE"
      },
      "execution_count": null,
      "outputs": []
    }
  ]
}