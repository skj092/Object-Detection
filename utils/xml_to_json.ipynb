{
  "nbformat": 4,
  "nbformat_minor": 0,
  "metadata": {
    "colab": {
      "name": "xml-to-json.ipynb",
      "provenance": [],
      "authorship_tag": "ABX9TyMqZvBihLkLt1bRP6nxRuTi",
      "include_colab_link": true
    },
    "kernelspec": {
      "name": "python3",
      "display_name": "Python 3"
    },
    "language_info": {
      "name": "python"
    }
  },
  "cells": [
    {
      "cell_type": "markdown",
      "metadata": {
        "id": "view-in-github",
        "colab_type": "text"
      },
      "source": [
        "<a href=\"https://colab.research.google.com/github/skj092/Object-Detection/blob/main/xml_to_json.ipynb\" target=\"_parent\"><img src=\"https://colab.research.google.com/assets/colab-badge.svg\" alt=\"Open In Colab\"/></a>"
      ]
    },
    {
      "cell_type": "code",
      "source": [
        "!tar -xvf annotations.tar.gz"
      ],
      "metadata": {
        "id": "FGCqRGClkFq3"
      },
      "execution_count": null,
      "outputs": []
    },
    {
      "cell_type": "code",
      "source": [
        "ls"
      ],
      "metadata": {
        "colab": {
          "base_uri": "https://localhost:8080/"
        },
        "id": "MbdPPoEQlcgw",
        "outputId": "b95b8f3a-1dab-46bf-dd24-5419af62a89a"
      },
      "execution_count": 2,
      "outputs": [
        {
          "output_type": "stream",
          "name": "stdout",
          "text": [
            "\u001b[0m\u001b[01;34mannotations\u001b[0m/  annotations.tar.gz  \u001b[01;34msample_data\u001b[0m/  xml-to-json.py  xml-to-json.txt\n"
          ]
        }
      ]
    },
    {
      "cell_type": "code",
      "source": [
        "ls annotations/"
      ],
      "metadata": {
        "colab": {
          "base_uri": "https://localhost:8080/"
        },
        "id": "98eSQ5COlgBT",
        "outputId": "2a99bdba-299b-4e82-fb70-6fdbe7fc0add"
      },
      "execution_count": 3,
      "outputs": [
        {
          "output_type": "stream",
          "name": "stdout",
          "text": [
            "list.txt  README  test.txt  trainval.txt  \u001b[0m\u001b[01;34mtrimaps\u001b[0m/  \u001b[01;34mxmls\u001b[0m/\n"
          ]
        }
      ]
    },
    {
      "cell_type": "code",
      "source": [
        "!python xml-to-json.py -h"
      ],
      "metadata": {
        "colab": {
          "base_uri": "https://localhost:8080/"
        },
        "id": "UcwNRMbgmIJE",
        "outputId": "b8eaa6fb-bf02-45ff-b667-c8b38ef6f4e2"
      },
      "execution_count": 5,
      "outputs": [
        {
          "output_type": "stream",
          "name": "stdout",
          "text": [
            "usage: xml-to-json.py [-h] [--ann_dir ANN_DIR] [--ann_ids ANN_IDS]\n",
            "                      [--ann_paths_list ANN_PATHS_LIST] [--labels LABELS]\n",
            "                      [--output OUTPUT] [--ext EXT]\n",
            "\n",
            "This script support converting voc format xmls to coco format json\n",
            "\n",
            "optional arguments:\n",
            "  -h, --help            show this help message and exit\n",
            "  --ann_dir ANN_DIR     path to annotation files directory. It is not need\n",
            "                        when use --ann_paths_list\n",
            "  --ann_ids ANN_IDS     path to annotation files ids list. It is not need when\n",
            "                        use --ann_paths_list\n",
            "  --ann_paths_list ANN_PATHS_LIST\n",
            "                        path of annotation paths list. It is not need when use\n",
            "                        --ann_dir and --ann_ids\n",
            "  --labels LABELS       path to label list.\n",
            "  --output OUTPUT       path to output json file\n",
            "  --ext EXT             additional extension of annotation file\n"
          ]
        }
      ]
    },
    {
      "cell_type": "code",
      "source": [
        "!python xml-to-json.py --ann_paths_list \"/content/annotations/xmls/\" --labels='labels.txt'"
      ],
      "metadata": {
        "colab": {
          "base_uri": "https://localhost:8080/"
        },
        "id": "supe-Jr9licX",
        "outputId": "b70d7fc6-1b4a-4fe3-a0a9-b35db54eb3ec"
      },
      "execution_count": 15,
      "outputs": [
        {
          "output_type": "stream",
          "name": "stdout",
          "text": [
            "Traceback (most recent call last):\n",
            "  File \"xml-to-json.py\", line 150, in <module>\n",
            "    main()\n",
            "  File \"xml-to-json.py\", line 139, in main\n",
            "    annpaths_list_path=args.ann_paths_list\n",
            "  File \"xml-to-json.py\", line 24, in get_annpaths\n",
            "    with open(annpaths_list_path, 'r') as f:\n",
            "IsADirectoryError: [Errno 21] Is a directory: '/content/annotations/xmls/'\n"
          ]
        }
      ]
    },
    {
      "cell_type": "code",
      "source": [
        "ls annotations"
      ],
      "metadata": {
        "colab": {
          "base_uri": "https://localhost:8080/"
        },
        "id": "y32wS_h3riBe",
        "outputId": "7d405c31-6a85-45fc-9991-63f41ac8d202"
      },
      "execution_count": 19,
      "outputs": [
        {
          "output_type": "stream",
          "name": "stdout",
          "text": [
            "list.txt  README  test.txt  trainval.txt  \u001b[0m\u001b[01;34mtrimaps\u001b[0m/  \u001b[01;34mxmls\u001b[0m/\n"
          ]
        }
      ]
    },
    {
      "cell_type": "code",
      "source": [
        "with open('/content/annotations/trainval.txt') as f:\n",
        "  print(f.read())"
      ],
      "metadata": {
        "id": "Q23-sL-Um4vr"
      },
      "execution_count": null,
      "outputs": []
    },
    {
      "cell_type": "code",
      "source": [
        "ls annotations"
      ],
      "metadata": {
        "colab": {
          "base_uri": "https://localhost:8080/"
        },
        "id": "G3fmthMIredc",
        "outputId": "215604e9-6527-48a3-dae4-aa32e94ad6e2"
      },
      "execution_count": 18,
      "outputs": [
        {
          "output_type": "stream",
          "name": "stdout",
          "text": [
            "list.txt  README  test.txt  trainval.txt  \u001b[0m\u001b[01;34mtrimaps\u001b[0m/  \u001b[01;34mxmls\u001b[0m/\n"
          ]
        }
      ]
    },
    {
      "cell_type": "code",
      "source": [
        "!python xml-to-json.py --ann_dir /content/annotations/xmls --ann_ids /content/annotations/test.txt --labels /content/label2id.txt --output label.json"
      ],
      "metadata": {
        "colab": {
          "base_uri": "https://localhost:8080/"
        },
        "id": "pW_VvWCUsAgt",
        "outputId": "ab7c1973-3de1-40c0-97af-3b021b6a7997"
      },
      "execution_count": 53,
      "outputs": [
        {
          "output_type": "stream",
          "name": "stdout",
          "text": [
            "Start converting !\n",
            "\r  0% 0/14676 [00:00<?, ?it/s]\r  0% 0/14676 [00:00<?, ?it/s]\n",
            "Traceback (most recent call last):\n",
            "  File \"xml-to-json.py\", line 150, in <module>\n",
            "    main()\n",
            "  File \"xml-to-json.py\", line 145, in main\n",
            "    extract_num_from_imgid=True\n",
            "  File \"xml-to-json.py\", line 106, in convert_xmls_to_cocojson\n",
            "    ann = get_coco_annotation_from_obj(obj=obj, label2id=label2id)\n",
            "  File \"xml-to-json.py\", line 62, in get_coco_annotation_from_obj\n",
            "    assert label in label2id, f\"Error: {label} is not in label2id !\"\n",
            "AssertionError: Error: cat is not in label2id !\n"
          ]
        }
      ]
    },
    {
      "cell_type": "code",
      "source": [
        "!mv Abyssinian_201.xml annotations/xmls/"
      ],
      "metadata": {
        "id": "YJ9f2LYXsXMk"
      },
      "execution_count": 23,
      "outputs": []
    },
    {
      "cell_type": "code",
      "source": [
        "a = []\n",
        "with open('labels.txt') as f:\n",
        "  a.append(f.read().split('\\n'))"
      ],
      "metadata": {
        "id": "r-6VGwcktAN8"
      },
      "execution_count": 36,
      "outputs": []
    },
    {
      "cell_type": "code",
      "source": [
        "b = [i for j in a for i in j]\n",
        "b"
      ],
      "metadata": {
        "colab": {
          "base_uri": "https://localhost:8080/"
        },
        "id": "7nNCqPpnvNre",
        "outputId": "31b2eca8-f1a7-4b8a-80c2-2d6aa1630d11"
      },
      "execution_count": 42,
      "outputs": [
        {
          "output_type": "execute_result",
          "data": {
            "text/plain": [
              "['Abyssinian',\n",
              " 'Americal Bulldog',\n",
              " 'american_pit_bull_terrier',\n",
              " 'basset_hound',\n",
              " 'beagle',\n",
              " 'Bengal',\n",
              " 'Birman',\n",
              " 'Bombay',\n",
              " 'boxer',\n",
              " 'British_Shorthair',\n",
              " 'chihuahua',\n",
              " 'Egyptian_Mau',\n",
              " 'english_cocker_spaniel',\n",
              " 'english_setter',\n",
              " 'german_shorthaired',\n",
              " 'great_pyrenees',\n",
              " 'havanese',\n",
              " 'japanese_chin',\n",
              " 'keeshond',\n",
              " 'leonberger',\n",
              " 'Maine_Coon',\n",
              " 'miniature_pinscher',\n",
              " 'newfoundland',\n",
              " 'Persian',\n",
              " 'pomeranian',\n",
              " 'pug',\n",
              " 'Ragdoll',\n",
              " 'Russian_Blue',\n",
              " 'saint_bernard',\n",
              " 'samoyed',\n",
              " 'scottish_terrier',\n",
              " 'shiba_inu',\n",
              " 'Siamese',\n",
              " 'Sphynx',\n",
              " 'staffordshire_bull_terrier',\n",
              " 'wheaten_terrier',\n",
              " 'yorkshire_terrier',\n",
              " '',\n",
              " '',\n",
              " '',\n",
              " '',\n",
              " '',\n",
              " '',\n",
              " '',\n",
              " '',\n",
              " '',\n",
              " '',\n",
              " '',\n",
              " '',\n",
              " '',\n",
              " '',\n",
              " '',\n",
              " '',\n",
              " '',\n",
              " '',\n",
              " '',\n",
              " '']"
            ]
          },
          "metadata": {},
          "execution_count": 42
        }
      ]
    },
    {
      "cell_type": "code",
      "source": [
        "b = b[:37]"
      ],
      "metadata": {
        "id": "gR6czppovOJH"
      },
      "execution_count": 43,
      "outputs": []
    },
    {
      "cell_type": "code",
      "source": [
        "b"
      ],
      "metadata": {
        "colab": {
          "base_uri": "https://localhost:8080/"
        },
        "id": "fmWBmIUdvZxk",
        "outputId": "2a71db44-d335-466f-ab51-b5c193db7b84"
      },
      "execution_count": 44,
      "outputs": [
        {
          "output_type": "execute_result",
          "data": {
            "text/plain": [
              "['Abyssinian',\n",
              " 'Americal Bulldog',\n",
              " 'american_pit_bull_terrier',\n",
              " 'basset_hound',\n",
              " 'beagle',\n",
              " 'Bengal',\n",
              " 'Birman',\n",
              " 'Bombay',\n",
              " 'boxer',\n",
              " 'British_Shorthair',\n",
              " 'chihuahua',\n",
              " 'Egyptian_Mau',\n",
              " 'english_cocker_spaniel',\n",
              " 'english_setter',\n",
              " 'german_shorthaired',\n",
              " 'great_pyrenees',\n",
              " 'havanese',\n",
              " 'japanese_chin',\n",
              " 'keeshond',\n",
              " 'leonberger',\n",
              " 'Maine_Coon',\n",
              " 'miniature_pinscher',\n",
              " 'newfoundland',\n",
              " 'Persian',\n",
              " 'pomeranian',\n",
              " 'pug',\n",
              " 'Ragdoll',\n",
              " 'Russian_Blue',\n",
              " 'saint_bernard',\n",
              " 'samoyed',\n",
              " 'scottish_terrier',\n",
              " 'shiba_inu',\n",
              " 'Siamese',\n",
              " 'Sphynx',\n",
              " 'staffordshire_bull_terrier',\n",
              " 'wheaten_terrier',\n",
              " 'yorkshire_terrier']"
            ]
          },
          "metadata": {},
          "execution_count": 44
        }
      ]
    },
    {
      "cell_type": "code",
      "source": [
        "label2id = {}\n",
        "for i,label in enumerate(b):\n",
        "  label2id[label] = i"
      ],
      "metadata": {
        "id": "NrLEf7jywAWR"
      },
      "execution_count": 47,
      "outputs": []
    },
    {
      "cell_type": "code",
      "source": [
        "label2id"
      ],
      "metadata": {
        "colab": {
          "base_uri": "https://localhost:8080/"
        },
        "id": "joIaR_tJwSlw",
        "outputId": "998ac981-ff76-43db-9923-3f6b7dc9ad19"
      },
      "execution_count": 48,
      "outputs": [
        {
          "output_type": "execute_result",
          "data": {
            "text/plain": [
              "{'Abyssinian': 0,\n",
              " 'Americal Bulldog': 1,\n",
              " 'Bengal': 5,\n",
              " 'Birman': 6,\n",
              " 'Bombay': 7,\n",
              " 'British_Shorthair': 9,\n",
              " 'Egyptian_Mau': 11,\n",
              " 'Maine_Coon': 20,\n",
              " 'Persian': 23,\n",
              " 'Ragdoll': 26,\n",
              " 'Russian_Blue': 27,\n",
              " 'Siamese': 32,\n",
              " 'Sphynx': 33,\n",
              " 'american_pit_bull_terrier': 2,\n",
              " 'basset_hound': 3,\n",
              " 'beagle': 4,\n",
              " 'boxer': 8,\n",
              " 'chihuahua': 10,\n",
              " 'english_cocker_spaniel': 12,\n",
              " 'english_setter': 13,\n",
              " 'german_shorthaired': 14,\n",
              " 'great_pyrenees': 15,\n",
              " 'havanese': 16,\n",
              " 'japanese_chin': 17,\n",
              " 'keeshond': 18,\n",
              " 'leonberger': 19,\n",
              " 'miniature_pinscher': 21,\n",
              " 'newfoundland': 22,\n",
              " 'pomeranian': 24,\n",
              " 'pug': 25,\n",
              " 'saint_bernard': 28,\n",
              " 'samoyed': 29,\n",
              " 'scottish_terrier': 30,\n",
              " 'shiba_inu': 31,\n",
              " 'staffordshire_bull_terrier': 34,\n",
              " 'wheaten_terrier': 35,\n",
              " 'yorkshire_terrier': 36}"
            ]
          },
          "metadata": {},
          "execution_count": 48
        }
      ]
    },
    {
      "cell_type": "code",
      "source": [
        "ls"
      ],
      "metadata": {
        "colab": {
          "base_uri": "https://localhost:8080/"
        },
        "id": "ET72JCYXw0D6",
        "outputId": "36040b79-59c6-4ef5-ce07-1f86c64633c8"
      },
      "execution_count": 50,
      "outputs": [
        {
          "output_type": "stream",
          "name": "stdout",
          "text": [
            "\u001b[0m\u001b[01;34mannotations\u001b[0m/        label2id.txt  \u001b[01;34msample_data\u001b[0m/    xml-to-json.txt\n",
            "annotations.tar.gz  labels.txt    xml-to-json.py\n"
          ]
        }
      ]
    },
    {
      "cell_type": "code",
      "source": [
        "import json\n",
        "with open('label2id.txt', 'w') as convert_file:\n",
        "  convert_file.write(json.dumps(label2id))"
      ],
      "metadata": {
        "id": "-OGo1Au4wTg9"
      },
      "execution_count": 49,
      "outputs": []
    },
    {
      "cell_type": "code",
      "source": [
        ""
      ],
      "metadata": {
        "id": "y-2L_kTSwv-N"
      },
      "execution_count": null,
      "outputs": []
    }
  ]
}